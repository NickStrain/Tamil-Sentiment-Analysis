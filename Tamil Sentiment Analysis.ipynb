{
 "cells": [
  {
   "cell_type": "code",
   "execution_count": 62,
   "metadata": {},
   "outputs": [],
   "source": [
    "import pandas as pd\n",
    "import numpy as np\n",
    "import matplotlib.pyplot as plt\n",
    "import os \n",
    "from collections import Counter\n",
    "\n",
    "from tqdm import tqdm\n",
    "import torch\n",
    "from torch import nn\n",
    "import torch.optim as optim\n",
    "from torchtext import data\n",
    "from torch.nn.utils.rnn import pad_sequence\n",
    "from torch.utils.data import DataLoader,Dataset\n",
    "import torchvision.transforms as transforms\n",
    "import torch.nn.functional as F\n",
    "from torchtext.data.utils import get_tokenizer\n",
    "from torchtext.vocab import build_vocab_from_iterator\n",
    "\n",
    "import spacy\n",
    "\n",
    "spacy_eng = spacy.load(\"en_core_web_sm\")\n",
    "device = torch.device(\"cuda\" if torch.cuda.is_available() else \"cpu\")\n"
   ]
  },
  {
   "cell_type": "code",
   "execution_count": 69,
   "metadata": {},
   "outputs": [
    {
     "data": {
      "text/html": [
       "<div>\n",
       "<style scoped>\n",
       "    .dataframe tbody tr th:only-of-type {\n",
       "        vertical-align: middle;\n",
       "    }\n",
       "\n",
       "    .dataframe tbody tr th {\n",
       "        vertical-align: top;\n",
       "    }\n",
       "\n",
       "    .dataframe thead th {\n",
       "        text-align: right;\n",
       "    }\n",
       "</style>\n",
       "<table border=\"1\" class=\"dataframe\">\n",
       "  <thead>\n",
       "    <tr style=\"text-align: right;\">\n",
       "      <th></th>\n",
       "      <th>text</th>\n",
       "      <th>label</th>\n",
       "    </tr>\n",
       "  </thead>\n",
       "  <tbody>\n",
       "    <tr>\n",
       "      <th>0</th>\n",
       "      <td>Trailer late ah parthavanga like podunga</td>\n",
       "      <td>0</td>\n",
       "    </tr>\n",
       "    <tr>\n",
       "      <th>1</th>\n",
       "      <td>Move pathutu vanthu trailer pakurvnga yaru</td>\n",
       "      <td>0</td>\n",
       "    </tr>\n",
       "    <tr>\n",
       "      <th>2</th>\n",
       "      <td>Puthupetai dhanush  ah yarellam pathinga</td>\n",
       "      <td>0</td>\n",
       "    </tr>\n",
       "    <tr>\n",
       "      <th>3</th>\n",
       "      <td>Dhanush oda character ,puthu sa erukay , mass ta</td>\n",
       "      <td>0</td>\n",
       "    </tr>\n",
       "    <tr>\n",
       "      <th>4</th>\n",
       "      <td>vera level ippa pesungada mokka nu thalaivaaaaaa</td>\n",
       "      <td>0</td>\n",
       "    </tr>\n",
       "    <tr>\n",
       "      <th>...</th>\n",
       "      <td>...</td>\n",
       "      <td>...</td>\n",
       "    </tr>\n",
       "    <tr>\n",
       "      <th>11328</th>\n",
       "      <td>Shankar Anna and AR sir Sema mass</td>\n",
       "      <td>0</td>\n",
       "    </tr>\n",
       "    <tr>\n",
       "      <th>11329</th>\n",
       "      <td>intha movie la yuvan music therikum pola thonu...</td>\n",
       "      <td>0</td>\n",
       "    </tr>\n",
       "    <tr>\n",
       "      <th>11330</th>\n",
       "      <td>Yuvan shankar Raja anna fan's like here...</td>\n",
       "      <td>0</td>\n",
       "    </tr>\n",
       "    <tr>\n",
       "      <th>11331</th>\n",
       "      <td>A masterpiece best revenge film I’ve ever scene</td>\n",
       "      <td>0</td>\n",
       "    </tr>\n",
       "    <tr>\n",
       "      <th>11332</th>\n",
       "      <td>Enna pa thala ya kamiya than katringa</td>\n",
       "      <td>0</td>\n",
       "    </tr>\n",
       "  </tbody>\n",
       "</table>\n",
       "<p>9075 rows × 2 columns</p>\n",
       "</div>"
      ],
      "text/plain": [
       "                                                    text  label\n",
       "0               Trailer late ah parthavanga like podunga      0\n",
       "1             Move pathutu vanthu trailer pakurvnga yaru      0\n",
       "2               Puthupetai dhanush  ah yarellam pathinga      0\n",
       "3       Dhanush oda character ,puthu sa erukay , mass ta      0\n",
       "4       vera level ippa pesungada mokka nu thalaivaaaaaa      0\n",
       "...                                                  ...    ...\n",
       "11328                  Shankar Anna and AR sir Sema mass      0\n",
       "11329  intha movie la yuvan music therikum pola thonu...      0\n",
       "11330         Yuvan shankar Raja anna fan's like here...      0\n",
       "11331    A masterpiece best revenge film I’ve ever scene      0\n",
       "11332              Enna pa thala ya kamiya than katringa      0\n",
       "\n",
       "[9075 rows x 2 columns]"
      ]
     },
     "execution_count": 69,
     "metadata": {},
     "output_type": "execute_result"
    }
   ],
   "source": [
    "df_train = pd.read_parquet(\"E:\\\\tamil statement analysis\\\\tamilmixsentiment-train.parquet\")\n",
    "df_train.drop(df_train[df_train['label']>1].index,inplace=True)\n",
    "df_train"
   ]
  },
  {
   "cell_type": "code",
   "execution_count": 68,
   "metadata": {},
   "outputs": [
    {
     "data": {
      "text/html": [
       "<div>\n",
       "<style scoped>\n",
       "    .dataframe tbody tr th:only-of-type {\n",
       "        vertical-align: middle;\n",
       "    }\n",
       "\n",
       "    .dataframe tbody tr th {\n",
       "        vertical-align: top;\n",
       "    }\n",
       "\n",
       "    .dataframe thead th {\n",
       "        text-align: right;\n",
       "    }\n",
       "</style>\n",
       "<table border=\"1\" class=\"dataframe\">\n",
       "  <thead>\n",
       "    <tr style=\"text-align: right;\">\n",
       "      <th></th>\n",
       "      <th>text</th>\n",
       "      <th>label</th>\n",
       "    </tr>\n",
       "  </thead>\n",
       "  <tbody>\n",
       "    <tr>\n",
       "      <th>0</th>\n",
       "      <td>Yarayellam FDFS ppga ippove ready agitinga</td>\n",
       "      <td>0</td>\n",
       "    </tr>\n",
       "    <tr>\n",
       "      <th>1</th>\n",
       "      <td>Ennada viswasam mersal sarkar madhri time la l...</td>\n",
       "      <td>0</td>\n",
       "    </tr>\n",
       "    <tr>\n",
       "      <th>2</th>\n",
       "      <td>yuvan vera level ya .... valuable script. SK i...</td>\n",
       "      <td>0</td>\n",
       "    </tr>\n",
       "    <tr>\n",
       "      <th>3</th>\n",
       "      <td>all the best anna...Telugu makkal selvan fans</td>\n",
       "      <td>0</td>\n",
       "    </tr>\n",
       "    <tr>\n",
       "      <th>4</th>\n",
       "      <td>1:17 verithanama iruku nu solravanga like podunga</td>\n",
       "      <td>0</td>\n",
       "    </tr>\n",
       "    <tr>\n",
       "      <th>5</th>\n",
       "      <td>mokka ya tha iruku trailer antha level ku peru...</td>\n",
       "      <td>0</td>\n",
       "    </tr>\n",
       "    <tr>\n",
       "      <th>6</th>\n",
       "      <td>wait and watch ennu neraya neraya neraya Erika...</td>\n",
       "      <td>0</td>\n",
       "    </tr>\n",
       "    <tr>\n",
       "      <th>7</th>\n",
       "      <td>Tamizha Na la mudiyatha thu ethuvume illa...#S...</td>\n",
       "      <td>0</td>\n",
       "    </tr>\n",
       "    <tr>\n",
       "      <th>8</th>\n",
       "      <td>Padu mokkai, ean thalayai kooni kondu nikkuthu...</td>\n",
       "      <td>1</td>\n",
       "    </tr>\n",
       "    <tr>\n",
       "      <th>9</th>\n",
       "      <td>Kannane kanne 96 Milion views</td>\n",
       "      <td>0</td>\n",
       "    </tr>\n",
       "  </tbody>\n",
       "</table>\n",
       "</div>"
      ],
      "text/plain": [
       "                                                text  label\n",
       "0         Yarayellam FDFS ppga ippove ready agitinga      0\n",
       "1  Ennada viswasam mersal sarkar madhri time la l...      0\n",
       "2  yuvan vera level ya .... valuable script. SK i...      0\n",
       "3      all the best anna...Telugu makkal selvan fans      0\n",
       "4  1:17 verithanama iruku nu solravanga like podunga      0\n",
       "5  mokka ya tha iruku trailer antha level ku peru...      0\n",
       "6  wait and watch ennu neraya neraya neraya Erika...      0\n",
       "7  Tamizha Na la mudiyatha thu ethuvume illa...#S...      0\n",
       "8  Padu mokkai, ean thalayai kooni kondu nikkuthu...      1\n",
       "9                      Kannane kanne 96 Milion views      0"
      ]
     },
     "execution_count": 68,
     "metadata": {},
     "output_type": "execute_result"
    }
   ],
   "source": [
    "df_test = pd.read_parquet(\"E:\\\\tamil statement analysis\\\\tamilmixsentiment-test.parquet\")\n",
    "df_test.drop(df_test[df_test['label']>1].index,inplace=True)\n",
    "df_test =df_test.reset_index(drop=True)\n",
    "df_test.iloc[:10]"
   ]
  },
  {
   "cell_type": "code",
   "execution_count": 70,
   "metadata": {},
   "outputs": [],
   "source": [
    "from sklearn.utils import resample\n",
    "df_majority = df_train[df_train['label']==0]\n",
    "df_remaining = df_train[df_train['label']!=0]\n",
    "\n",
    "df_down = resample(df_majority,replace=False,n_samples=2000)\n",
    "df_train = pd.concat([df_down,df_remaining])\n",
    "df_train =df_train.reset_index(drop=True)"
   ]
  },
  {
   "cell_type": "code",
   "execution_count": 71,
   "metadata": {},
   "outputs": [
    {
     "data": {
      "text/plain": [
       "8962"
      ]
     },
     "execution_count": 71,
     "metadata": {},
     "output_type": "execute_result"
    }
   ],
   "source": [
    "tokenizer = get_tokenizer('basic_english')\n",
    "def yield_tokens():\n",
    "    for i in df_train['text']:\n",
    "        token = tokenizer(i)\n",
    "        yield token\n",
    "text_generator = yield_tokens()\n",
    "\n",
    "UNK_IDX, PAD_IDX,SOS_IDX, EOS_IDX = 0, 1, 2, 3     \n",
    "vocab = build_vocab_from_iterator(text_generator, specials=['<unk>', '<pad>', '<sos>', '<eos>'],special_first=True)\n",
    "vocab.set_default_index(UNK_IDX)\n",
    "len(vocab.get_stoi())\n",
    "\n"
   ]
  },
  {
   "cell_type": "code",
   "execution_count": 72,
   "metadata": {},
   "outputs": [],
   "source": [
    "def data_pipline(df):\n",
    "    data = []\n",
    "    for i,text in enumerate(df['text']):\n",
    "        tokens = tokenizer(text)\n",
    "        data.append((torch.tensor([vocab[token] for token in tokens],dtype=torch.long),int(df['label'][i])))\n",
    "        \n",
    "    return data \n",
    "   \n",
    "train_data = data_pipline(df_train)\n",
    "test_data = data_pipline(df_test)\n",
    "\n",
    "def collate_batch(batch):\n",
    "    text_list,label_list = zip(*batch)\n",
    "    text_length = [len(text) for text in text_list ]\n",
    "    padded_text_list = pad_sequence(text_list, padding_value=vocab['<pad>'], batch_first=True).transpose(0, 1)\n",
    "    return torch.tensor(label_list,dtype=torch.float).to(device),padded_text_list.to(device)\n",
    "\n",
    "\n",
    "batch_size = 4\n",
    "train_loader = DataLoader(train_data,batch_size=batch_size,shuffle=True,collate_fn=collate_batch)\n",
    "test_loader = DataLoader(test_data,batch_size=batch_size,shuffle=True,collate_fn=collate_batch)"
   ]
  },
  {
   "cell_type": "code",
   "execution_count": 80,
   "metadata": {},
   "outputs": [],
   "source": [
    "class Textclassifier(nn.Module):\n",
    "    def __init__(self, vocab_size, embedding_dim, hidden_dim):\n",
    "        super(Textclassifier, self).__init__()\n",
    "        self.embedding = nn.Embedding(vocab_size, embedding_dim)\n",
    "        self.rnn = nn.LSTM(embedding_dim, hidden_dim, num_layers=2, \n",
    "                           bidirectional=True, dropout=0.5)\n",
    "        self.fc1 = nn.Linear(hidden_dim*2, 1)\n",
    "        self.dropout = nn.Dropout(0.5)\n",
    "        \n",
    "        \n",
    "    def forward(self, x):\n",
    "        embedding = self.dropout(self.embedding(x))\n",
    "        output, (hidden, cell) = self.rnn(embedding)\n",
    "        hidden = torch.cat([hidden[-2], hidden[-1]], dim=1)\n",
    "        hidden = self.dropout(hidden)\n",
    "        out = self.fc1(hidden)\n",
    "        \n",
    "        return out"
   ]
  },
  {
   "cell_type": "code",
   "execution_count": 84,
   "metadata": {},
   "outputs": [],
   "source": [
    "model = Textclassifier(len(vocab),100,259).to(device)\n",
    "optimizer = optim.Adam(model.parameters(), lr=1e-3)\n",
    "criteon = nn.BCEWithLogitsLoss().to(device)\n",
    "\n",
    "def binary_acc(preds, y):\n",
    "    preds = torch.round(torch.sigmoid(preds))\n",
    "    correct = torch.eq(preds, y).float()\n",
    "    acc = correct.sum() / len(correct)\n",
    "    return acc\n",
    "\n",
    "def eval(model,loader,crition):\n",
    "    avg_acc=[]\n",
    "    model.eval()\n",
    "    with torch.no_grad(): \n",
    "        for batch in loader:\n",
    "            label,text= batch \n",
    "            pred=model(text)\n",
    "            acc = binary_acc(pred,label).item()\n",
    "            avg_acc.append(acc)\n",
    "            \n",
    "    print(\"Test_acc:\",np.array(avg_acc).mean())"
   ]
  },
  {
   "cell_type": "code",
   "execution_count": 85,
   "metadata": {},
   "outputs": [
    {
     "name": "stderr",
     "output_type": "stream",
     "text": [
      "100%|██████████| 862/862 [00:50<00:00, 17.19it/s]\n"
     ]
    },
    {
     "name": "stdout",
     "output_type": "stream",
     "text": [
      "loss 2.8026897339215133\n",
      "train acc: 0.5864269141531323\n",
      "Test_acc: 2.5032\n"
     ]
    },
    {
     "name": "stderr",
     "output_type": "stream",
     "text": [
      "100%|██████████| 862/862 [00:49<00:00, 17.37it/s]\n"
     ]
    },
    {
     "name": "stdout",
     "output_type": "stream",
     "text": [
      "loss 2.529720846325885\n",
      "train acc: 0.6319605568445475\n",
      "Test_acc: 2.3592\n"
     ]
    },
    {
     "name": "stderr",
     "output_type": "stream",
     "text": [
      "100%|██████████| 862/862 [00:49<00:00, 17.38it/s]\n"
     ]
    },
    {
     "name": "stdout",
     "output_type": "stream",
     "text": [
      "loss 2.036150123322493\n",
      "train acc: 0.6809744779582366\n",
      "Test_acc: 2.4392\n"
     ]
    },
    {
     "name": "stderr",
     "output_type": "stream",
     "text": [
      "100%|██████████| 862/862 [00:48<00:00, 17.85it/s]\n"
     ]
    },
    {
     "name": "stdout",
     "output_type": "stream",
     "text": [
      "loss 1.339237839523746\n",
      "train acc: 0.7282482598607889\n",
      "Test_acc: 2.604\n"
     ]
    },
    {
     "name": "stderr",
     "output_type": "stream",
     "text": [
      "100%|██████████| 862/862 [00:51<00:00, 16.67it/s]\n"
     ]
    },
    {
     "name": "stdout",
     "output_type": "stream",
     "text": [
      "loss 0.6004170667932932\n",
      "train acc: 0.7713457076566125\n",
      "Test_acc: 2.5288\n"
     ]
    },
    {
     "name": "stderr",
     "output_type": "stream",
     "text": [
      "100%|██████████| 862/862 [00:48<00:00, 17.62it/s]\n"
     ]
    },
    {
     "name": "stdout",
     "output_type": "stream",
     "text": [
      "loss 0.35957618417652215\n",
      "train acc: 0.8048627223511214\n",
      "Test_acc: 2.72\n"
     ]
    },
    {
     "name": "stderr",
     "output_type": "stream",
     "text": [
      "100%|██████████| 862/862 [00:55<00:00, 15.57it/s]\n"
     ]
    },
    {
     "name": "stdout",
     "output_type": "stream",
     "text": [
      "loss 0.13308800324660397\n",
      "train acc: 0.8310822008617832\n",
      "Test_acc: 2.6672\n"
     ]
    },
    {
     "name": "stderr",
     "output_type": "stream",
     "text": [
      "100%|██████████| 862/862 [00:51<00:00, 16.71it/s]\n"
     ]
    },
    {
     "name": "stdout",
     "output_type": "stream",
     "text": [
      "loss 0.11063564251610455\n",
      "train acc: 0.8512180974477959\n",
      "Test_acc: 2.8016\n"
     ]
    },
    {
     "name": "stderr",
     "output_type": "stream",
     "text": [
      "100%|██████████| 862/862 [00:58<00:00, 14.81it/s]\n"
     ]
    },
    {
     "name": "stdout",
     "output_type": "stream",
     "text": [
      "loss 0.11044562269476182\n",
      "train acc: 0.8668793503480279\n",
      "Test_acc: 2.444\n"
     ]
    },
    {
     "name": "stderr",
     "output_type": "stream",
     "text": [
      "100%|██████████| 862/862 [00:55<00:00, 15.61it/s]\n"
     ]
    },
    {
     "name": "stdout",
     "output_type": "stream",
     "text": [
      "loss 0.09200387965474051\n",
      "train acc: 0.8793793503480278\n",
      "Test_acc: 2.6144\n"
     ]
    },
    {
     "name": "stderr",
     "output_type": "stream",
     "text": [
      " 24%|██▎       | 204/862 [00:14<00:48, 13.69it/s]"
     ]
    }
   ],
   "source": [
    "avg_acc=[]\n",
    "model.train()\n",
    "for epoch in range(20):\n",
    "    train_loss = 0.0\n",
    "    for i,batch in tqdm(enumerate(train_loader),total=len(train_loader)):\n",
    "        label,text=batch\n",
    "        pred = model(text).squeeze(1)\n",
    "        loss = criteon(pred,label)\n",
    "        acc = binary_acc(pred,label).item()\n",
    "        avg_acc.append(acc)\n",
    "        optimizer.zero_grad()\n",
    "        loss.backward()\n",
    "        optimizer.step()\n",
    "        train_loss +=loss.item()*text.size(0)\n",
    "    print(\"loss\",train_loss/len(train_loader.sampler))\n",
    "    print('train acc:',np.array(avg_acc).mean())\n",
    "    eval(model,test_loader,criteon)\n",
    "    "
   ]
  },
  {
   "cell_type": "code",
   "execution_count": 61,
   "metadata": {},
   "outputs": [
    {
     "data": {
      "text/html": [
       "<div>\n",
       "<style scoped>\n",
       "    .dataframe tbody tr th:only-of-type {\n",
       "        vertical-align: middle;\n",
       "    }\n",
       "\n",
       "    .dataframe tbody tr th {\n",
       "        vertical-align: top;\n",
       "    }\n",
       "\n",
       "    .dataframe thead th {\n",
       "        text-align: right;\n",
       "    }\n",
       "</style>\n",
       "<table border=\"1\" class=\"dataframe\">\n",
       "  <thead>\n",
       "    <tr style=\"text-align: right;\">\n",
       "      <th></th>\n",
       "      <th>text</th>\n",
       "      <th>label</th>\n",
       "    </tr>\n",
       "  </thead>\n",
       "  <tbody>\n",
       "    <tr>\n",
       "      <th>0</th>\n",
       "      <td>Trailer late ah parthavanga like podunga</td>\n",
       "      <td>0</td>\n",
       "    </tr>\n",
       "    <tr>\n",
       "      <th>1</th>\n",
       "      <td>Move pathutu vanthu trailer pakurvnga yaru</td>\n",
       "      <td>0</td>\n",
       "    </tr>\n",
       "    <tr>\n",
       "      <th>2</th>\n",
       "      <td>Puthupetai dhanush  ah yarellam pathinga</td>\n",
       "      <td>0</td>\n",
       "    </tr>\n",
       "    <tr>\n",
       "      <th>3</th>\n",
       "      <td>Dhanush oda character ,puthu sa erukay , mass ta</td>\n",
       "      <td>0</td>\n",
       "    </tr>\n",
       "    <tr>\n",
       "      <th>4</th>\n",
       "      <td>vera level ippa pesungada mokka nu thalaivaaaaaa</td>\n",
       "      <td>0</td>\n",
       "    </tr>\n",
       "    <tr>\n",
       "      <th>...</th>\n",
       "      <td>...</td>\n",
       "      <td>...</td>\n",
       "    </tr>\n",
       "    <tr>\n",
       "      <th>11328</th>\n",
       "      <td>Shankar Anna and AR sir Sema mass</td>\n",
       "      <td>0</td>\n",
       "    </tr>\n",
       "    <tr>\n",
       "      <th>11329</th>\n",
       "      <td>intha movie la yuvan music therikum pola thonu...</td>\n",
       "      <td>0</td>\n",
       "    </tr>\n",
       "    <tr>\n",
       "      <th>11330</th>\n",
       "      <td>Yuvan shankar Raja anna fan's like here...</td>\n",
       "      <td>0</td>\n",
       "    </tr>\n",
       "    <tr>\n",
       "      <th>11331</th>\n",
       "      <td>A masterpiece best revenge film I’ve ever scene</td>\n",
       "      <td>0</td>\n",
       "    </tr>\n",
       "    <tr>\n",
       "      <th>11332</th>\n",
       "      <td>Enna pa thala ya kamiya than katringa</td>\n",
       "      <td>0</td>\n",
       "    </tr>\n",
       "  </tbody>\n",
       "</table>\n",
       "<p>9075 rows × 2 columns</p>\n",
       "</div>"
      ],
      "text/plain": [
       "                                                    text  label\n",
       "0               Trailer late ah parthavanga like podunga      0\n",
       "1             Move pathutu vanthu trailer pakurvnga yaru      0\n",
       "2               Puthupetai dhanush  ah yarellam pathinga      0\n",
       "3       Dhanush oda character ,puthu sa erukay , mass ta      0\n",
       "4       vera level ippa pesungada mokka nu thalaivaaaaaa      0\n",
       "...                                                  ...    ...\n",
       "11328                  Shankar Anna and AR sir Sema mass      0\n",
       "11329  intha movie la yuvan music therikum pola thonu...      0\n",
       "11330         Yuvan shankar Raja anna fan's like here...      0\n",
       "11331    A masterpiece best revenge film I’ve ever scene      0\n",
       "11332              Enna pa thala ya kamiya than katringa      0\n",
       "\n",
       "[9075 rows x 2 columns]"
      ]
     },
     "execution_count": 61,
     "metadata": {},
     "output_type": "execute_result"
    }
   ],
   "source": [
    "# eval(model,test_loader,criteon)\n",
    "\n",
    "        \n"
   ]
  },
  {
   "cell_type": "code",
   "execution_count": null,
   "metadata": {},
   "outputs": [],
   "source": [
    "#25 k dislikes ethuku da intha trailerku poi apdi ungalukku entha trailer tha pidikum\n",
    "\n",
    "text,label = test_data[1]\n",
    "text = text.view(-1,1)\n",
    "pre = model(text)\n",
    "pre.argmax(1)"
   ]
  }
 ],
 "metadata": {
  "kernelspec": {
   "display_name": "Python 3",
   "language": "python",
   "name": "python3"
  },
  "language_info": {
   "codemirror_mode": {
    "name": "ipython",
    "version": 3
   },
   "file_extension": ".py",
   "mimetype": "text/x-python",
   "name": "python",
   "nbconvert_exporter": "python",
   "pygments_lexer": "ipython3",
   "version": "3.9.12"
  },
  "orig_nbformat": 4
 },
 "nbformat": 4,
 "nbformat_minor": 2
}
