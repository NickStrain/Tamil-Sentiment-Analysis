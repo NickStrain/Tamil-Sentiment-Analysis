{
 "cells": [
  {
   "cell_type": "code",
   "execution_count": 1,
   "metadata": {},
   "outputs": [
    {
     "name": "stderr",
     "output_type": "stream",
     "text": [
      "c:\\coda\\lib\\site-packages\\torchvision\\io\\image.py:13: UserWarning: Failed to load image Python extension: Could not find module 'C:\\coda\\Lib\\site-packages\\torchvision\\image.pyd' (or one of its dependencies). Try using the full path with constructor syntax.\n",
      "  warn(f\"Failed to load image Python extension: {e}\")\n"
     ]
    }
   ],
   "source": [
    "import pandas as pd\n",
    "import numpy as np\n",
    "import matplotlib.pyplot as plt\n",
    "import os \n",
    "from collections import Counter\n",
    "\n",
    "from tqdm import tqdm\n",
    "import torch\n",
    "from torch import nn\n",
    "import torch.optim as optim\n",
    "from torchtext import data\n",
    "from torch.nn.utils.rnn import pad_sequence\n",
    "from torch.utils.data import DataLoader,Dataset\n",
    "import torchvision.transforms as transforms\n",
    "import torch.nn.functional as F\n",
    "from torchtext.data.utils import get_tokenizer\n",
    "from torchtext.vocab import build_vocab_from_iterator\n",
    "\n",
    "import spacy\n",
    "\n",
    "spacy_eng = spacy.load(\"en_core_web_sm\")\n",
    "device = torch.device(\"cuda\" if torch.cuda.is_available() else \"cpu\")\n"
   ]
  },
  {
   "cell_type": "code",
   "execution_count": 2,
   "metadata": {},
   "outputs": [
    {
     "data": {
      "text/html": [
       "<div>\n",
       "<style scoped>\n",
       "    .dataframe tbody tr th:only-of-type {\n",
       "        vertical-align: middle;\n",
       "    }\n",
       "\n",
       "    .dataframe tbody tr th {\n",
       "        vertical-align: top;\n",
       "    }\n",
       "\n",
       "    .dataframe thead th {\n",
       "        text-align: right;\n",
       "    }\n",
       "</style>\n",
       "<table border=\"1\" class=\"dataframe\">\n",
       "  <thead>\n",
       "    <tr style=\"text-align: right;\">\n",
       "      <th></th>\n",
       "      <th>text</th>\n",
       "      <th>label</th>\n",
       "    </tr>\n",
       "  </thead>\n",
       "  <tbody>\n",
       "    <tr>\n",
       "      <th>0</th>\n",
       "      <td>Trailer late ah parthavanga like podunga</td>\n",
       "      <td>0</td>\n",
       "    </tr>\n",
       "    <tr>\n",
       "      <th>1</th>\n",
       "      <td>Move pathutu vanthu trailer pakurvnga yaru</td>\n",
       "      <td>0</td>\n",
       "    </tr>\n",
       "    <tr>\n",
       "      <th>2</th>\n",
       "      <td>Puthupetai dhanush  ah yarellam pathinga</td>\n",
       "      <td>0</td>\n",
       "    </tr>\n",
       "    <tr>\n",
       "      <th>3</th>\n",
       "      <td>Dhanush oda character ,puthu sa erukay , mass ta</td>\n",
       "      <td>0</td>\n",
       "    </tr>\n",
       "    <tr>\n",
       "      <th>4</th>\n",
       "      <td>vera level ippa pesungada mokka nu thalaivaaaaaa</td>\n",
       "      <td>0</td>\n",
       "    </tr>\n",
       "    <tr>\n",
       "      <th>...</th>\n",
       "      <td>...</td>\n",
       "      <td>...</td>\n",
       "    </tr>\n",
       "    <tr>\n",
       "      <th>11328</th>\n",
       "      <td>Shankar Anna and AR sir Sema mass</td>\n",
       "      <td>0</td>\n",
       "    </tr>\n",
       "    <tr>\n",
       "      <th>11329</th>\n",
       "      <td>intha movie la yuvan music therikum pola thonu...</td>\n",
       "      <td>0</td>\n",
       "    </tr>\n",
       "    <tr>\n",
       "      <th>11330</th>\n",
       "      <td>Yuvan shankar Raja anna fan's like here...</td>\n",
       "      <td>0</td>\n",
       "    </tr>\n",
       "    <tr>\n",
       "      <th>11331</th>\n",
       "      <td>A masterpiece best revenge film I’ve ever scene</td>\n",
       "      <td>0</td>\n",
       "    </tr>\n",
       "    <tr>\n",
       "      <th>11332</th>\n",
       "      <td>Enna pa thala ya kamiya than katringa</td>\n",
       "      <td>0</td>\n",
       "    </tr>\n",
       "  </tbody>\n",
       "</table>\n",
       "<p>9075 rows × 2 columns</p>\n",
       "</div>"
      ],
      "text/plain": [
       "                                                    text  label\n",
       "0               Trailer late ah parthavanga like podunga      0\n",
       "1             Move pathutu vanthu trailer pakurvnga yaru      0\n",
       "2               Puthupetai dhanush  ah yarellam pathinga      0\n",
       "3       Dhanush oda character ,puthu sa erukay , mass ta      0\n",
       "4       vera level ippa pesungada mokka nu thalaivaaaaaa      0\n",
       "...                                                  ...    ...\n",
       "11328                  Shankar Anna and AR sir Sema mass      0\n",
       "11329  intha movie la yuvan music therikum pola thonu...      0\n",
       "11330         Yuvan shankar Raja anna fan's like here...      0\n",
       "11331    A masterpiece best revenge film I’ve ever scene      0\n",
       "11332              Enna pa thala ya kamiya than katringa      0\n",
       "\n",
       "[9075 rows x 2 columns]"
      ]
     },
     "execution_count": 2,
     "metadata": {},
     "output_type": "execute_result"
    }
   ],
   "source": [
    "df_train = pd.read_parquet(\"E:\\\\tamil statement analysis\\\\tamilmixsentiment-train.parquet\")\n",
    "df_train.drop(df_train[df_train['label']>1].index,inplace=True)\n",
    "df_train"
   ]
  },
  {
   "cell_type": "code",
   "execution_count": 87,
   "metadata": {},
   "outputs": [
    {
     "data": {
      "text/html": [
       "<div>\n",
       "<style scoped>\n",
       "    .dataframe tbody tr th:only-of-type {\n",
       "        vertical-align: middle;\n",
       "    }\n",
       "\n",
       "    .dataframe tbody tr th {\n",
       "        vertical-align: top;\n",
       "    }\n",
       "\n",
       "    .dataframe thead th {\n",
       "        text-align: right;\n",
       "    }\n",
       "</style>\n",
       "<table border=\"1\" class=\"dataframe\">\n",
       "  <thead>\n",
       "    <tr style=\"text-align: right;\">\n",
       "      <th></th>\n",
       "      <th>text</th>\n",
       "      <th>label</th>\n",
       "    </tr>\n",
       "  </thead>\n",
       "  <tbody>\n",
       "    <tr>\n",
       "      <th>0</th>\n",
       "      <td>Yarayellam FDFS ppga ippove ready agitinga</td>\n",
       "      <td>0</td>\n",
       "    </tr>\n",
       "    <tr>\n",
       "      <th>1</th>\n",
       "      <td>Ennada viswasam mersal sarkar madhri time la l...</td>\n",
       "      <td>0</td>\n",
       "    </tr>\n",
       "    <tr>\n",
       "      <th>2</th>\n",
       "      <td>yuvan vera level ya .... valuable script. SK i...</td>\n",
       "      <td>0</td>\n",
       "    </tr>\n",
       "    <tr>\n",
       "      <th>3</th>\n",
       "      <td>all the best anna...Telugu makkal selvan fans</td>\n",
       "      <td>0</td>\n",
       "    </tr>\n",
       "    <tr>\n",
       "      <th>4</th>\n",
       "      <td>1:17 verithanama iruku nu solravanga like podunga</td>\n",
       "      <td>0</td>\n",
       "    </tr>\n",
       "    <tr>\n",
       "      <th>...</th>\n",
       "      <td>...</td>\n",
       "      <td>...</td>\n",
       "    </tr>\n",
       "    <tr>\n",
       "      <th>2494</th>\n",
       "      <td>2k likes for 700k  Share max</td>\n",
       "      <td>0</td>\n",
       "    </tr>\n",
       "    <tr>\n",
       "      <th>2495</th>\n",
       "      <td>Tamil krish ah irukum oh...</td>\n",
       "      <td>0</td>\n",
       "    </tr>\n",
       "    <tr>\n",
       "      <th>2496</th>\n",
       "      <td>Thalaivaaaaaa... trailer ye pattaiya kelapudhe...</td>\n",
       "      <td>0</td>\n",
       "    </tr>\n",
       "    <tr>\n",
       "      <th>2497</th>\n",
       "      <td>1:05 to 1:30  Vere level masss</td>\n",
       "      <td>0</td>\n",
       "    </tr>\n",
       "    <tr>\n",
       "      <th>2498</th>\n",
       "      <td>Pangaalingala1.3k like 40m view varamum Innum ...</td>\n",
       "      <td>0</td>\n",
       "    </tr>\n",
       "  </tbody>\n",
       "</table>\n",
       "<p>2499 rows × 2 columns</p>\n",
       "</div>"
      ],
      "text/plain": [
       "                                                   text  label\n",
       "0            Yarayellam FDFS ppga ippove ready agitinga      0\n",
       "1     Ennada viswasam mersal sarkar madhri time la l...      0\n",
       "2     yuvan vera level ya .... valuable script. SK i...      0\n",
       "3         all the best anna...Telugu makkal selvan fans      0\n",
       "4     1:17 verithanama iruku nu solravanga like podunga      0\n",
       "...                                                 ...    ...\n",
       "2494                       2k likes for 700k  Share max      0\n",
       "2495                        Tamil krish ah irukum oh...      0\n",
       "2496  Thalaivaaaaaa... trailer ye pattaiya kelapudhe...      0\n",
       "2497                     1:05 to 1:30  Vere level masss      0\n",
       "2498  Pangaalingala1.3k like 40m view varamum Innum ...      0\n",
       "\n",
       "[2499 rows x 2 columns]"
      ]
     },
     "execution_count": 87,
     "metadata": {},
     "output_type": "execute_result"
    }
   ],
   "source": [
    "df_test = pd.read_parquet(\"E:\\\\tamil statement analysis\\\\tamilmixsentiment-test.parquet\")\n",
    "df_test.drop(df_test[df_test['label']>1].index,inplace=True)\n",
    "df_test =df_test.reset_index(drop=True)\n",
    "df_test"
   ]
  },
  {
   "attachments": {},
   "cell_type": "markdown",
   "metadata": {},
   "source": [
    "# Preprocessing"
   ]
  },
  {
   "cell_type": "code",
   "execution_count": 4,
   "metadata": {},
   "outputs": [],
   "source": [
    "from sklearn.utils import resample\n",
    "df_majority = df_train[df_train['label']==0]\n",
    "df_remaining = df_train[df_train['label']!=0]\n",
    "\n",
    "df_down = resample(df_majority,replace=False,n_samples=2000)\n",
    "df_train = pd.concat([df_down,df_remaining])\n",
    "df_train =df_train.reset_index(drop=True)"
   ]
  },
  {
   "cell_type": "code",
   "execution_count": 38,
   "metadata": {},
   "outputs": [
    {
     "data": {
      "text/plain": [
       "8879"
      ]
     },
     "execution_count": 38,
     "metadata": {},
     "output_type": "execute_result"
    }
   ],
   "source": [
    "tokenizer = get_tokenizer('basic_english')\n",
    "def yield_tokens():\n",
    "    for i in df_train['text']:\n",
    "        token = tokenizer(i)\n",
    "        yield token\n",
    "text_generator = yield_tokens()\n",
    "\n",
    "UNK_IDX, PAD_IDX,SOS_IDX, EOS_IDX = 0, 1, 2, 3     \n",
    "vocab = build_vocab_from_iterator(text_generator, specials=['<unk>', '<pad>', '<sos>', '<eos>'],special_first=True)\n",
    "vocab.set_default_index(UNK_IDX)\n",
    "len(vocab.get_stoi())\n",
    "\n"
   ]
  },
  {
   "cell_type": "code",
   "execution_count": 23,
   "metadata": {},
   "outputs": [],
   "source": [
    "def data_pipline(df):\n",
    "    data = []\n",
    "    for i,text in enumerate(df['text']):\n",
    "        tokens = tokenizer(text)\n",
    "        data.append((torch.tensor([vocab[token] for token in tokens],dtype=torch.long),int(df['label'][i])))\n",
    "        \n",
    "    return data \n",
    "   \n",
    "train_data = data_pipline(df_train)\n",
    "test_data = data_pipline(df_test)\n",
    "\n",
    "def collate_batch(batch):\n",
    "    text_list,label_list = zip(*batch)\n",
    "    text_length = [len(text) for text in text_list ]\n",
    "    padded_text_list = pad_sequence(text_list, padding_value=vocab['<pad>'], batch_first=True).transpose(0, 1)\n",
    "    return torch.tensor(label_list,dtype=torch.float).to(device),padded_text_list.to(device)\n",
    "\n",
    "\n",
    "batch_size = 4\n",
    "train_loader = DataLoader(train_data,batch_size=batch_size,shuffle=True,collate_fn=collate_batch)\n",
    "test_loader = DataLoader(test_data,shuffle=False,collate_fn=collate_batch)"
   ]
  },
  {
   "attachments": {},
   "cell_type": "markdown",
   "metadata": {},
   "source": [
    "# Model"
   ]
  },
  {
   "cell_type": "code",
   "execution_count": 7,
   "metadata": {},
   "outputs": [],
   "source": [
    "class Textclassifier(nn.Module):\n",
    "    def __init__(self, vocab_size, embedding_dim, hidden_dim):\n",
    "        super(Textclassifier, self).__init__()\n",
    "        self.embedding = nn.Embedding(vocab_size, embedding_dim)\n",
    "        self.rnn = nn.LSTM(embedding_dim, hidden_dim, num_layers=2, \n",
    "                           bidirectional=True, dropout=0.5)\n",
    "        self.fc1 = nn.Linear(hidden_dim*2, 1)\n",
    "        self.dropout = nn.Dropout(0.5)\n",
    "        \n",
    "        \n",
    "    def forward(self, x):\n",
    "        embedding = self.dropout(self.embedding(x))\n",
    "        output, (hidden, cell) = self.rnn(embedding)\n",
    "        hidden = torch.cat([hidden[-2], hidden[-1]], dim=1)\n",
    "        hidden = self.dropout(hidden)\n",
    "        out = self.fc1(hidden)\n",
    "        \n",
    "        return out"
   ]
  },
  {
   "attachments": {},
   "cell_type": "markdown",
   "metadata": {},
   "source": [
    "# Train and Evaluation "
   ]
  },
  {
   "cell_type": "code",
   "execution_count": 8,
   "metadata": {},
   "outputs": [],
   "source": [
    "model = Textclassifier(len(vocab),100,259).to(device)\n",
    "optimizer = optim.Adam(model.parameters(), lr=1e-3)\n",
    "criteon = nn.BCEWithLogitsLoss().to(device)\n",
    "\n",
    "def binary_acc(preds, y):\n",
    "    preds = torch.round(torch.sigmoid(preds))\n",
    "    correct = torch.eq(preds, y).float()\n",
    "    acc = correct.sum() / len(correct)\n",
    "    return acc\n",
    "\n",
    "def eval(model,loader,crition):\n",
    "    avg_acc=[]\n",
    "    model.eval()\n",
    "    with torch.no_grad(): \n",
    "        for batch in loader:\n",
    "            label,text= batch \n",
    "            pred=model(text)\n",
    "            acc = binary_acc(pred,label).item()\n",
    "            avg_acc.append(acc)\n",
    "            \n",
    "    print(\"Test_acc:\",np.array(avg_acc).mean())"
   ]
  },
  {
   "cell_type": "code",
   "execution_count": null,
   "metadata": {},
   "outputs": [],
   "source": [
    "avg_acc=[]\n",
    "model.train()\n",
    "for epoch in range(10):\n",
    "    train_loss = 0.0\n",
    "    for i,batch in tqdm(enumerate(train_loader),total=len(train_loader)):\n",
    "        label,text=batch\n",
    "        pred = model(text).squeeze(1)\n",
    "        loss = criteon(pred,label)\n",
    "        acc = binary_acc(pred,label).item()\n",
    "        avg_acc.append(acc)\n",
    "        optimizer.zero_grad()\n",
    "        loss.backward()\n",
    "        optimizer.step()\n",
    "        train_loss +=loss.item()*text.size(0)\n",
    "    print(\"loss\",train_loss/len(train_loader.sampler))\n",
    "    print('train acc:',np.array(avg_acc).mean())\n",
    "    eval(model,test_loader,criteon)\n",
    "    "
   ]
  },
  {
   "attachments": {},
   "cell_type": "markdown",
   "metadata": {},
   "source": [
    "# Examples"
   ]
  },
  {
   "cell_type": "code",
   "execution_count": 84,
   "metadata": {},
   "outputs": [
    {
     "name": "stdout",
     "output_type": "stream",
     "text": [
      "\"Marana mass karthi broo ninga vera level\", 0.0 \n",
      "Haiyooo.. hero roll ku indhe munji sariye waradhu., 1.0 \n",
      "Padu mokkai, ean thalayai kooni kondu nikkuthu thalai, 1.0 \n",
      "mokka ya tha iruku trailer antha level ku perusa onnum illa, 1.0 \n",
      "Vadachennai ku aprom oru come back pa, 0.0 \n"
     ]
    }
   ],
   "source": [
    "texts = ['\"Marana mass karthi broo ninga vera level\"',\"Haiyooo.. hero roll ku indhe munji sariye waradhu.\",'Padu mokkai, ean thalayai kooni kondu nikkuthu thalai',\n",
    "         \"mokka ya tha iruku trailer antha level ku perusa onnum illa\",\"Vadachennai ku aprom oru come back pa\"]\n",
    "for text in texts:\n",
    "    d =[]\n",
    "    for i in text.split(' '):\n",
    "        d.append(vocab[i])\n",
    "    pre = model(torch.tensor(d).view(-1,1))\n",
    "    pre = torch.round(torch.sigmoid(pre))\n",
    "    print(f'{text}, {pre.item()} ')"
   ]
  },
  {
   "cell_type": "code",
   "execution_count": null,
   "metadata": {},
   "outputs": [],
   "source": []
  }
 ],
 "metadata": {
  "kernelspec": {
   "display_name": "Python 3",
   "language": "python",
   "name": "python3"
  },
  "language_info": {
   "codemirror_mode": {
    "name": "ipython",
    "version": 3
   },
   "file_extension": ".py",
   "mimetype": "text/x-python",
   "name": "python",
   "nbconvert_exporter": "python",
   "pygments_lexer": "ipython3",
   "version": "3.9.12"
  },
  "orig_nbformat": 4
 },
 "nbformat": 4,
 "nbformat_minor": 2
}
