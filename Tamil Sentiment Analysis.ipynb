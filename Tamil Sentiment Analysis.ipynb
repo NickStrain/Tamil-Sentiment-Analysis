{
 "cells": [
  {
   "cell_type": "code",
   "execution_count": 3,
   "metadata": {},
   "outputs": [
    {
     "name": "stderr",
     "output_type": "stream",
     "text": [
      "c:\\coda\\lib\\site-packages\\torchvision\\io\\image.py:13: UserWarning: Failed to load image Python extension: Could not find module 'C:\\coda\\Lib\\site-packages\\torchvision\\image.pyd' (or one of its dependencies). Try using the full path with constructor syntax.\n",
      "  warn(f\"Failed to load image Python extension: {e}\")\n"
     ]
    }
   ],
   "source": [
    "import pandas as pd\n",
    "import numpy as np\n",
    "import matplotlib.pyplot as plt\n",
    "import os \n",
    "\n",
    "import torch\n",
    "from torch.nn.utils.rnn import pad_sequence\n",
    "from torch.utils.data import DataLoader,Dataset\n",
    "import torchvision.transforms as transforms\n",
    "\n",
    "import spacy\n",
    "\n",
    "spacy_eng = spacy.load(\"en_core_web_sm\")\n"
   ]
  },
  {
   "cell_type": "code",
   "execution_count": 56,
   "metadata": {},
   "outputs": [
    {
     "data": {
      "text/html": [
       "<div>\n",
       "<style scoped>\n",
       "    .dataframe tbody tr th:only-of-type {\n",
       "        vertical-align: middle;\n",
       "    }\n",
       "\n",
       "    .dataframe tbody tr th {\n",
       "        vertical-align: top;\n",
       "    }\n",
       "\n",
       "    .dataframe thead th {\n",
       "        text-align: right;\n",
       "    }\n",
       "</style>\n",
       "<table border=\"1\" class=\"dataframe\">\n",
       "  <thead>\n",
       "    <tr style=\"text-align: right;\">\n",
       "      <th></th>\n",
       "      <th>text</th>\n",
       "      <th>label</th>\n",
       "    </tr>\n",
       "  </thead>\n",
       "  <tbody>\n",
       "    <tr>\n",
       "      <th>0</th>\n",
       "      <td>Trailer late ah parthavanga like podunga</td>\n",
       "      <td>0</td>\n",
       "    </tr>\n",
       "    <tr>\n",
       "      <th>1</th>\n",
       "      <td>Move pathutu vanthu trailer pakurvnga yaru</td>\n",
       "      <td>0</td>\n",
       "    </tr>\n",
       "    <tr>\n",
       "      <th>2</th>\n",
       "      <td>Puthupetai dhanush  ah yarellam pathinga</td>\n",
       "      <td>0</td>\n",
       "    </tr>\n",
       "    <tr>\n",
       "      <th>3</th>\n",
       "      <td>Dhanush oda character ,puthu sa erukay , mass ta</td>\n",
       "      <td>0</td>\n",
       "    </tr>\n",
       "    <tr>\n",
       "      <th>4</th>\n",
       "      <td>vera level ippa pesungada mokka nu thalaivaaaaaa</td>\n",
       "      <td>0</td>\n",
       "    </tr>\n",
       "    <tr>\n",
       "      <th>5</th>\n",
       "      <td>Thala mass . U1 bgm.     Vera level</td>\n",
       "      <td>0</td>\n",
       "    </tr>\n",
       "    <tr>\n",
       "      <th>6</th>\n",
       "      <td>ivara pathta death vadi madiri irukku</td>\n",
       "      <td>1</td>\n",
       "    </tr>\n",
       "    <tr>\n",
       "      <th>7</th>\n",
       "      <td>0:28 90's kids reference  Maadila irunthu kudi...</td>\n",
       "      <td>0</td>\n",
       "    </tr>\n",
       "    <tr>\n",
       "      <th>8</th>\n",
       "      <td>Aiyoo thala mass pannita thala</td>\n",
       "      <td>0</td>\n",
       "    </tr>\n",
       "    <tr>\n",
       "      <th>9</th>\n",
       "      <td>ENPT ku kaathu kadanthathellam oru nimishathul...</td>\n",
       "      <td>2</td>\n",
       "    </tr>\n",
       "  </tbody>\n",
       "</table>\n",
       "</div>"
      ],
      "text/plain": [
       "                                                text  label\n",
       "0           Trailer late ah parthavanga like podunga      0\n",
       "1         Move pathutu vanthu trailer pakurvnga yaru      0\n",
       "2           Puthupetai dhanush  ah yarellam pathinga      0\n",
       "3   Dhanush oda character ,puthu sa erukay , mass ta      0\n",
       "4   vera level ippa pesungada mokka nu thalaivaaaaaa      0\n",
       "5                Thala mass . U1 bgm.     Vera level      0\n",
       "6              ivara pathta death vadi madiri irukku      1\n",
       "7  0:28 90's kids reference  Maadila irunthu kudi...      0\n",
       "8                     Aiyoo thala mass pannita thala      0\n",
       "9  ENPT ku kaathu kadanthathellam oru nimishathul...      2"
      ]
     },
     "execution_count": 56,
     "metadata": {},
     "output_type": "execute_result"
    }
   ],
   "source": [
    "df = pd.read_parquet(\"E:\\\\tamil statement analysis\\\\tamilmixsentiment-train.parquet\")\n",
    "df.iloc[:10]"
   ]
  },
  {
   "cell_type": "code",
   "execution_count": 37,
   "metadata": {},
   "outputs": [],
   "source": [
    "class Vocabulary():\n",
    "    def __init__(self,freq_thres):\n",
    "        self.itos = {0:'<PAD>',1:'<SOS>',2:'<EOS>',3:\"<UNK>\"}\n",
    "        self.stoi =  {'<PAD>':0,'<SOS>':1,\"<EOS>\":2,\"<UNK>\":3}\n",
    "        self.freq_thres = freq_thres\n",
    "        \n",
    "    def __len__(self):\n",
    "        return len(self.itos)\n",
    "    \n",
    "    @staticmethod\n",
    "    def tokenizer_eng(text):\n",
    "        return [tok.text.lower() for tok in spacy_eng.tokenizer(text)]\n",
    "    \n",
    "    def build_vacabulary(self,sentence_list):\n",
    "        frequencis = {}\n",
    "        idx = 4\n",
    "        for sentence in sentence_list:\n",
    "            for word in self.tokenizer_eng(sentence):\n",
    "                if word not in frequencis:\n",
    "                    frequencis[word] = 1\n",
    "                else:\n",
    "                    frequencis[word] +=1\n",
    "                    \n",
    "                if frequencis[word] == self.freq_thres:\n",
    "                    self.stoi[word] = idx\n",
    "                    self.itos[idx] = word\n",
    "                    idx+=1\n",
    "                    \n",
    "    def numericalize(self,text):\n",
    "        tokenize_text = self.tokenizer_eng(text)\n",
    "        return[\n",
    "            self.stoi[token] if token in self.stoi else self.stoi['<UNK>']\n",
    "            for token in tokenize_text\n",
    "        ]\n",
    "\n",
    "        \n",
    "\n"
   ]
  },
  {
   "cell_type": "code",
   "execution_count": 53,
   "metadata": {},
   "outputs": [],
   "source": [
    "class dataset(Dataset):\n",
    "    def __init__(self,df,fre_thresold=2):\n",
    "        self.target  = df['label']\n",
    "        self.caption = df['text']\n",
    "        \n",
    "        \n",
    "        self.vocab = Vocabulary(fre_thresold)\n",
    "        self.vocab.build_vacabulary(self.caption.tolist())\n",
    "        \n",
    "    def __len__(self):\n",
    "        return len(self.target)\n",
    "    def __getitem__(self,index):\n",
    "        target=self.target[index]\n",
    "        caption=self.caption[index]\n",
    "        \n",
    "        numericalize_caption = [self.vocab.stoi['<SOS>']]\n",
    "        numericalize_caption+= self.vocab.numericalize(caption)\n",
    "        numericalize_caption.append(self.vocab.stoi[\"<EOS>\"])\n",
    "        \n",
    "        return torch.tensor(target),torch.tensor(numericalize_caption)\n",
    "                \n",
    "        "
   ]
  },
  {
   "cell_type": "code",
   "execution_count": null,
   "metadata": {},
   "outputs": [],
   "source": []
  },
  {
   "cell_type": "code",
   "execution_count": 46,
   "metadata": {},
   "outputs": [],
   "source": []
  },
  {
   "cell_type": "code",
   "execution_count": 47,
   "metadata": {},
   "outputs": [
    {
     "name": "stdout",
     "output_type": "stream",
     "text": [
      "tensor([0])\n",
      "tensor([[  1,   4, 233,  21, 950,   9,  60,   2]])\n"
     ]
    }
   ],
   "source": []
  }
 ],
 "metadata": {
  "kernelspec": {
   "display_name": "Python 3",
   "language": "python",
   "name": "python3"
  },
  "language_info": {
   "codemirror_mode": {
    "name": "ipython",
    "version": 3
   },
   "file_extension": ".py",
   "mimetype": "text/x-python",
   "name": "python",
   "nbconvert_exporter": "python",
   "pygments_lexer": "ipython3",
   "version": "3.9.12"
  },
  "orig_nbformat": 4
 },
 "nbformat": 4,
 "nbformat_minor": 2
}
